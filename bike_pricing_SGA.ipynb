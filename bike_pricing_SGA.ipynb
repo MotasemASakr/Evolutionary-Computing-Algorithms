{
 "cells": [
  {
   "cell_type": "markdown",
   "metadata": {},
   "source": [
    "# Bike Pricing Problem"
   ]
  },
  {
   "cell_type": "markdown",
   "metadata": {},
   "source": [
    "Assume that a company want to design a new bicycle.\n",
    "\n",
    "The following costs are considered:\n",
    "\n",
    "- \\$700,000 for manufacturing set-up costs, advertising, etc.\n",
    "- \\$110 to make each bike\n",
    "\n",
    "Based on similar bikes, the company expects sales to follow this “Demand Curve”: Unit sales=70,000 - 200*X where X is the price. This means that if the company set the price:\n",
    "- at \\$0, the company just gives away 70,000 bikes\n",
    "- at \\$350, the company won’t sell any bikes at all\n",
    "- at \\$300, the company might sell 70,000-200*300 = 10,000 bikes\n",
    "\n",
    "The profit can be calculated as follows: Profit=Sales-Costs or\n",
    "\n",
    "\\begin{equation*}\n",
    "f(\\mathbf{X})   = -200 \\times \\mathbf{X}^2 + 92,000 \\times \\mathbf{X} - 8,400,000  \\quad\\quad\\quad 50 < \\mathbf{X} \\le 350\n",
    "\\end{equation*}"
   ]
  },
  {
   "cell_type": "markdown",
   "metadata": {},
   "source": [
    "# Binary Genetic Algorithm or Simple Genetic Algorithm (SGA)"
   ]
  },
  {
   "cell_type": "code",
   "execution_count": 1,
   "metadata": {},
   "outputs": [],
   "source": [
    "import random"
   ]
  },
  {
   "cell_type": "code",
   "execution_count": 2,
   "metadata": {},
   "outputs": [],
   "source": [
    "# GA parameters\n",
    "num_gen=3000 # number of generations\n",
    "pop_size=5 # set population size\n",
    "crossover_prob=0.8 # crossover probability\n",
    "mutation_prob=0.2 # mutation probability\n",
    "num_parents=2 # number of parents to be selected\n",
    "\n",
    "# solution representation\n",
    "chromosome_length=9 # number of bits in each parameter\n",
    "\n",
    "best_score=-100000 # initialze best score"
   ]
  },
  {
   "cell_type": "code",
   "execution_count": 3,
   "metadata": {},
   "outputs": [],
   "source": [
    "# Create an initial random population\n",
    "populations =([[random.randint(0,1) for x in range(chromosome_length)] for i in range(pop_size)])\n",
    "parents=[]"
   ]
  },
  {
   "cell_type": "code",
   "execution_count": 4,
   "metadata": {},
   "outputs": [],
   "source": [
    "# Calculate fitness score\n",
    "def fitness_score() :\n",
    "    global populations, best_score\n",
    "    fit_value = []\n",
    "    fit_score=[]\n",
    "    num=[]\n",
    "    for i in range(len(populations)) :\n",
    "        chromosome_value=0\n",
    "        num.append(int(''.join(str(x) for x in populations[i]), base=2)) # convert binary to decimal\n",
    "        fit_value.append(-200*(num[i]^2) + 92000*num[i] -8400000)      \n",
    "    fit_value, populations = zip(*sorted(zip(fit_value, populations) , reverse = True))\n",
    "    best_score= fit_value[0]\n",
    "    \n",
    "    return fit_value, best_score"
   ]
  },
  {
   "cell_type": "code",
   "execution_count": 5,
   "metadata": {},
   "outputs": [],
   "source": [
    "# Random parent selection\n",
    "def selectparent():\n",
    "    global parents\n",
    "    parents=random.sample(populations, num_parents)\n",
    "    \n",
    "    return parents"
   ]
  },
  {
   "cell_type": "code",
   "execution_count": 6,
   "metadata": {},
   "outputs": [],
   "source": [
    "# Apply 1-point crossover\n",
    "def crossover():  \n",
    "    global parents\n",
    "    if crossover_prob > random.random():\n",
    "        cross_point = random.randint(0,chromosome_length)\n",
    "        parents+= tuple([(parents[0][0:cross_point +1] +parents[1][cross_point+1:(chromosome_length+1)])])\n",
    "        parents+= tuple([(parents[1][0:cross_point +1] +parents[0][cross_point+1:(chromosome_length+1)])])\n",
    "    \n",
    "    return parents"
   ]
  },
  {
   "cell_type": "code",
   "execution_count": 7,
   "metadata": {},
   "outputs": [],
   "source": [
    "# Apply mutation\n",
    "# Alter each gene independently with a probability mutation_prob\n",
    "def mutation() :\n",
    "    global populations, parents\n",
    "    mutated_parents=[]    \n",
    "    for i in range(len(parents)) :\n",
    "        for j in range(chromosome_length) :\n",
    "            if mutation_prob > random.random():\n",
    "                if parents[i][j]==1:\n",
    "                    parents[i][j]=0\n",
    "                else:\n",
    "                    parents[i][j]=1\n",
    "                    \n",
    "                populations = parents\n",
    "    \n",
    "    return populations"
   ]
  },
  {
   "cell_type": "code",
   "execution_count": 8,
   "metadata": {},
   "outputs": [
    {
     "name": "stdout",
     "output_type": "stream",
     "text": [
      "Best score: 23546000\n",
      "Best solution 226\n"
     ]
    }
   ],
   "source": [
    "# run GA\n",
    "for generation in range(num_gen) :\n",
    "    fitness_score()\n",
    "    selectparent() \n",
    "    crossover()\n",
    "    mutation()\n",
    "\n",
    "    \n",
    "print(\"Best score:\" , best_score)\n",
    "print(\"Best solution\", int(''.join(str(x) for x in populations[0]), base=2))"
   ]
  },
  {
   "cell_type": "markdown",
   "metadata": {},
   "source": [
    "# Real-value GA"
   ]
  },
  {
   "cell_type": "code",
   "execution_count": 8,
   "metadata": {},
   "outputs": [
    {
     "ename": "TypeError",
     "evalue": "ufunc 'bitwise_xor' not supported for the input types, and the inputs could not be safely coerced to any supported types according to the casting rule ''safe''",
     "output_type": "error",
     "traceback": [
      "\u001b[1;31m---------------------------------------------------------------------------\u001b[0m",
      "\u001b[1;31mTypeError\u001b[0m                                 Traceback (most recent call last)",
      "\u001b[1;32m<ipython-input-8-a2b433cd221f>\u001b[0m in \u001b[0;36m<module>\u001b[1;34m\u001b[0m\n\u001b[0;32m     14\u001b[0m \u001b[0mmodel\u001b[0m\u001b[1;33m=\u001b[0m\u001b[0mga\u001b[0m\u001b[1;33m(\u001b[0m\u001b[0mfunction\u001b[0m\u001b[1;33m=\u001b[0m\u001b[0mf\u001b[0m\u001b[1;33m,\u001b[0m\u001b[0mdimension\u001b[0m\u001b[1;33m=\u001b[0m\u001b[0mvarn\u001b[0m\u001b[1;33m,\u001b[0m\u001b[0mvariable_type\u001b[0m\u001b[1;33m=\u001b[0m\u001b[1;34m'real'\u001b[0m\u001b[1;33m,\u001b[0m\u001b[0mvariable_boundaries\u001b[0m\u001b[1;33m=\u001b[0m\u001b[0mvarbound\u001b[0m\u001b[1;33m)\u001b[0m\u001b[1;33m\u001b[0m\u001b[1;33m\u001b[0m\u001b[0m\n\u001b[0;32m     15\u001b[0m \u001b[1;33m\u001b[0m\u001b[0m\n\u001b[1;32m---> 16\u001b[1;33m \u001b[0mmodel\u001b[0m\u001b[1;33m.\u001b[0m\u001b[0mrun\u001b[0m\u001b[1;33m(\u001b[0m\u001b[1;33m)\u001b[0m\u001b[1;33m\u001b[0m\u001b[1;33m\u001b[0m\u001b[0m\n\u001b[0m",
      "\u001b[1;32mC:\\Anaconda3\\envs\\uoft\\lib\\site-packages\\geneticalgorithm\\geneticalgorithm.py\u001b[0m in \u001b[0;36mrun\u001b[1;34m(self)\u001b[0m\n\u001b[0;32m    283\u001b[0m \u001b[1;33m\u001b[0m\u001b[0m\n\u001b[0;32m    284\u001b[0m \u001b[1;33m\u001b[0m\u001b[0m\n\u001b[1;32m--> 285\u001b[1;33m             \u001b[0mobj\u001b[0m\u001b[1;33m=\u001b[0m\u001b[0mself\u001b[0m\u001b[1;33m.\u001b[0m\u001b[0msim\u001b[0m\u001b[1;33m(\u001b[0m\u001b[0mvar\u001b[0m\u001b[1;33m)\u001b[0m\u001b[1;33m\u001b[0m\u001b[1;33m\u001b[0m\u001b[0m\n\u001b[0m\u001b[0;32m    286\u001b[0m             \u001b[0msolo\u001b[0m\u001b[1;33m[\u001b[0m\u001b[0mself\u001b[0m\u001b[1;33m.\u001b[0m\u001b[0mdim\u001b[0m\u001b[1;33m]\u001b[0m\u001b[1;33m=\u001b[0m\u001b[0mobj\u001b[0m\u001b[1;33m\u001b[0m\u001b[1;33m\u001b[0m\u001b[0m\n\u001b[0;32m    287\u001b[0m             \u001b[0mpop\u001b[0m\u001b[1;33m[\u001b[0m\u001b[0mp\u001b[0m\u001b[1;33m]\u001b[0m\u001b[1;33m=\u001b[0m\u001b[0msolo\u001b[0m\u001b[1;33m.\u001b[0m\u001b[0mcopy\u001b[0m\u001b[1;33m(\u001b[0m\u001b[1;33m)\u001b[0m\u001b[1;33m\u001b[0m\u001b[1;33m\u001b[0m\u001b[0m\n",
      "\u001b[1;32mC:\\Anaconda3\\envs\\uoft\\lib\\site-packages\\geneticalgorithm\\geneticalgorithm.py\u001b[0m in \u001b[0;36msim\u001b[1;34m(self, X)\u001b[0m\n\u001b[0;32m    518\u001b[0m         \u001b[0mobj\u001b[0m\u001b[1;33m=\u001b[0m\u001b[1;32mNone\u001b[0m\u001b[1;33m\u001b[0m\u001b[1;33m\u001b[0m\u001b[0m\n\u001b[0;32m    519\u001b[0m         \u001b[1;32mtry\u001b[0m\u001b[1;33m:\u001b[0m\u001b[1;33m\u001b[0m\u001b[1;33m\u001b[0m\u001b[0m\n\u001b[1;32m--> 520\u001b[1;33m             \u001b[0mobj\u001b[0m\u001b[1;33m=\u001b[0m\u001b[0mfunc_timeout\u001b[0m\u001b[1;33m(\u001b[0m\u001b[0mself\u001b[0m\u001b[1;33m.\u001b[0m\u001b[0mfuntimeout\u001b[0m\u001b[1;33m,\u001b[0m\u001b[0mself\u001b[0m\u001b[1;33m.\u001b[0m\u001b[0mevaluate\u001b[0m\u001b[1;33m)\u001b[0m\u001b[1;33m\u001b[0m\u001b[1;33m\u001b[0m\u001b[0m\n\u001b[0m\u001b[0;32m    521\u001b[0m         \u001b[1;32mexcept\u001b[0m \u001b[0mFunctionTimedOut\u001b[0m\u001b[1;33m:\u001b[0m\u001b[1;33m\u001b[0m\u001b[1;33m\u001b[0m\u001b[0m\n\u001b[0;32m    522\u001b[0m             \u001b[0mprint\u001b[0m\u001b[1;33m(\u001b[0m\u001b[1;34m\"given function is not applicable\"\u001b[0m\u001b[1;33m)\u001b[0m\u001b[1;33m\u001b[0m\u001b[1;33m\u001b[0m\u001b[0m\n",
      "\u001b[1;32mC:\\Anaconda3\\envs\\uoft\\lib\\site-packages\\func_timeout\\dafunc.py\u001b[0m in \u001b[0;36mfunc_timeout\u001b[1;34m(timeout, func, args, kwargs)\u001b[0m\n\u001b[0;32m    106\u001b[0m \u001b[1;33m\u001b[0m\u001b[0m\n\u001b[0;32m    107\u001b[0m     \u001b[1;32mif\u001b[0m \u001b[0mexception\u001b[0m\u001b[1;33m:\u001b[0m\u001b[1;33m\u001b[0m\u001b[1;33m\u001b[0m\u001b[0m\n\u001b[1;32m--> 108\u001b[1;33m         \u001b[0mraise_exception\u001b[0m\u001b[1;33m(\u001b[0m\u001b[0mexception\u001b[0m\u001b[1;33m)\u001b[0m\u001b[1;33m\u001b[0m\u001b[1;33m\u001b[0m\u001b[0m\n\u001b[0m\u001b[0;32m    109\u001b[0m \u001b[1;33m\u001b[0m\u001b[0m\n\u001b[0;32m    110\u001b[0m     \u001b[1;32mif\u001b[0m \u001b[0mret\u001b[0m\u001b[1;33m:\u001b[0m\u001b[1;33m\u001b[0m\u001b[1;33m\u001b[0m\u001b[0m\n",
      "\u001b[1;32mC:\\Anaconda3\\envs\\uoft\\lib\\site-packages\\func_timeout\\py3_raise.py\u001b[0m in \u001b[0;36mraise_exception\u001b[1;34m(exception)\u001b[0m\n\u001b[0;32m      5\u001b[0m \u001b[1;31m# Only available in python3.3+\u001b[0m\u001b[1;33m\u001b[0m\u001b[1;33m\u001b[0m\u001b[1;33m\u001b[0m\u001b[0m\n\u001b[0;32m      6\u001b[0m \u001b[1;32mdef\u001b[0m \u001b[0mraise_exception\u001b[0m\u001b[1;33m(\u001b[0m\u001b[0mexception\u001b[0m\u001b[1;33m)\u001b[0m\u001b[1;33m:\u001b[0m\u001b[1;33m\u001b[0m\u001b[1;33m\u001b[0m\u001b[0m\n\u001b[1;32m----> 7\u001b[1;33m     \u001b[1;32mraise\u001b[0m \u001b[0mexception\u001b[0m\u001b[1;33m[\u001b[0m\u001b[1;36m0\u001b[0m\u001b[1;33m]\u001b[0m \u001b[1;32mfrom\u001b[0m \u001b[1;32mNone\u001b[0m\u001b[1;33m\u001b[0m\u001b[1;33m\u001b[0m\u001b[0m\n\u001b[0m",
      "\u001b[1;32mC:\\Anaconda3\\envs\\uoft\\lib\\site-packages\\geneticalgorithm\\geneticalgorithm.py\u001b[0m in \u001b[0;36mevaluate\u001b[1;34m(self)\u001b[0m\n\u001b[0;32m    512\u001b[0m \u001b[1;31m###############################################################################\u001b[0m\u001b[1;33m\u001b[0m\u001b[1;33m\u001b[0m\u001b[1;33m\u001b[0m\u001b[0m\n\u001b[0;32m    513\u001b[0m     \u001b[1;32mdef\u001b[0m \u001b[0mevaluate\u001b[0m\u001b[1;33m(\u001b[0m\u001b[0mself\u001b[0m\u001b[1;33m)\u001b[0m\u001b[1;33m:\u001b[0m\u001b[1;33m\u001b[0m\u001b[1;33m\u001b[0m\u001b[0m\n\u001b[1;32m--> 514\u001b[1;33m         \u001b[1;32mreturn\u001b[0m \u001b[0mself\u001b[0m\u001b[1;33m.\u001b[0m\u001b[0mf\u001b[0m\u001b[1;33m(\u001b[0m\u001b[0mself\u001b[0m\u001b[1;33m.\u001b[0m\u001b[0mtemp\u001b[0m\u001b[1;33m)\u001b[0m\u001b[1;33m\u001b[0m\u001b[1;33m\u001b[0m\u001b[0m\n\u001b[0m\u001b[0;32m    515\u001b[0m \u001b[1;31m###############################################################################\u001b[0m\u001b[1;33m\u001b[0m\u001b[1;33m\u001b[0m\u001b[1;33m\u001b[0m\u001b[0m\n\u001b[0;32m    516\u001b[0m     \u001b[1;32mdef\u001b[0m \u001b[0msim\u001b[0m\u001b[1;33m(\u001b[0m\u001b[0mself\u001b[0m\u001b[1;33m,\u001b[0m\u001b[0mX\u001b[0m\u001b[1;33m)\u001b[0m\u001b[1;33m:\u001b[0m\u001b[1;33m\u001b[0m\u001b[1;33m\u001b[0m\u001b[0m\n",
      "\u001b[1;32m<ipython-input-8-a2b433cd221f>\u001b[0m in \u001b[0;36mf\u001b[1;34m(X)\u001b[0m\n\u001b[0;32m      8\u001b[0m \u001b[1;31m# fitness function\u001b[0m\u001b[1;33m\u001b[0m\u001b[1;33m\u001b[0m\u001b[1;33m\u001b[0m\u001b[0m\n\u001b[0;32m      9\u001b[0m \u001b[1;32mdef\u001b[0m \u001b[0mf\u001b[0m\u001b[1;33m(\u001b[0m\u001b[0mX\u001b[0m\u001b[1;33m)\u001b[0m\u001b[1;33m:\u001b[0m\u001b[1;33m\u001b[0m\u001b[1;33m\u001b[0m\u001b[0m\n\u001b[1;32m---> 10\u001b[1;33m     \u001b[0mfitness\u001b[0m\u001b[1;33m=\u001b[0m\u001b[1;33m-\u001b[0m\u001b[1;36m200\u001b[0m\u001b[1;33m*\u001b[0m\u001b[0mX\u001b[0m\u001b[1;33m^\u001b[0m\u001b[1;36m2\u001b[0m\u001b[1;33m+\u001b[0m\u001b[1;36m92000\u001b[0m\u001b[1;33m*\u001b[0m\u001b[0mX\u001b[0m\u001b[1;33m-\u001b[0m\u001b[1;36m8400000\u001b[0m\u001b[1;33m\u001b[0m\u001b[1;33m\u001b[0m\u001b[0m\n\u001b[0m\u001b[0;32m     11\u001b[0m     \u001b[1;32mreturn\u001b[0m \u001b[0mfitness\u001b[0m\u001b[1;33m\u001b[0m\u001b[1;33m\u001b[0m\u001b[0m\n\u001b[0;32m     12\u001b[0m \u001b[1;33m\u001b[0m\u001b[0m\n",
      "\u001b[1;31mTypeError\u001b[0m: ufunc 'bitwise_xor' not supported for the input types, and the inputs could not be safely coerced to any supported types according to the casting rule ''safe''"
     ]
    }
   ],
   "source": [
    "import numpy as np\n",
    "from geneticalgorithm import geneticalgorithm as ga\n",
    "\n",
    "varn=1 # numebr of varaibles\n",
    "varbound=np.array([[50,340]]*varn) # boundary constraints\n",
    "fitness=0\n",
    "\n",
    "# fitness function\n",
    "def f(X):\n",
    "    fitness=-200*X^2+92000*X-8400000\n",
    "    return fitness\n",
    "\n",
    "# GA model\n",
    "model=ga(function=f,dimension=varn,variable_type='real',variable_boundaries=varbound)\n",
    "\n",
    "model.run()"
   ]
  },
  {
   "cell_type": "code",
   "execution_count": null,
   "metadata": {},
   "outputs": [],
   "source": [
    "class ObjectiveFunction():\n",
    "\n",
    "    def maximum_decision_variable_values(self):\n",
    "        return [340]\n",
    "\n",
    "    def minimum_decision_variable_values(self):\n",
    "        return [5]\n",
    "\n",
    "    def objective_function_value(self, decision_variable_values):\n",
    "        return (1 - decision_variable_values[0])**2 + 100 * (decision_variable_values[1] - decision_variable_values[0]**2)**2\n",
    "\n",
    "    def initial_decision_variable_value_estimates(self):\n",
    "        return [2, 2]"
   ]
  },
  {
   "cell_type": "code",
   "execution_count": 25,
   "metadata": {},
   "outputs": [],
   "source": [
    "from metaheuristic_algorithms.genetic_algorithm import GeneticAlgorithm\n",
    "\n",
    "\n"
   ]
  },
  {
   "cell_type": "code",
   "execution_count": 63,
   "metadata": {},
   "outputs": [],
   "source": [
    "from metaheuristic_algorithms.function_wrappers.abstract_wrapper import AbstractWrapper\n",
    "\n",
    "class ObjectiveFunctionWrapper(AbstractWrapper):\n",
    "\n",
    "    def maximum_decision_variable_values(self):\n",
    "        return [340]\n",
    "\n",
    "    def minimum_decision_variable_values(self):\n",
    "        return [5]\n",
    "\n",
    "    def objective_function_value(self, decision_variable_values):\n",
    "        return -200*(decision_variable_values[0])**2 + 92000 * decision_variable_values[0] - 840000\n",
    "\n",
    "    def initial_decision_variable_value_estimates(self):\n",
    "        return [100]"
   ]
  },
  {
   "cell_type": "code",
   "execution_count": 42,
   "metadata": {},
   "outputs": [
    {
     "ename": "NameError",
     "evalue": "name 'decision_variable_values' is not defined",
     "output_type": "error",
     "traceback": [
      "\u001b[1;31m---------------------------------------------------------------------------\u001b[0m",
      "\u001b[1;31mNameError\u001b[0m                                 Traceback (most recent call last)",
      "\u001b[1;32m<ipython-input-42-0e29e9b0a641>\u001b[0m in \u001b[0;36m<module>\u001b[1;34m\u001b[0m\n\u001b[1;32m----> 1\u001b[1;33m \u001b[0mdecision_variable_values\u001b[0m\u001b[1;33m[\u001b[0m\u001b[1;36m0\u001b[0m\u001b[1;33m]\u001b[0m\u001b[1;33m=\u001b[0m\u001b[1;36m5\u001b[0m\u001b[1;33m\u001b[0m\u001b[1;33m\u001b[0m\u001b[0m\n\u001b[0m\u001b[0;32m      2\u001b[0m \u001b[1;33m-\u001b[0m\u001b[1;36m200\u001b[0m\u001b[1;33m*\u001b[0m\u001b[1;33m(\u001b[0m\u001b[0mdecision_variable_values\u001b[0m\u001b[1;33m[\u001b[0m\u001b[1;36m0\u001b[0m\u001b[1;33m]\u001b[0m\u001b[1;33m)\u001b[0m\u001b[1;33m**\u001b[0m\u001b[1;36m2\u001b[0m \u001b[1;33m+\u001b[0m \u001b[1;36m92000\u001b[0m \u001b[1;33m*\u001b[0m \u001b[0mdecision_variable_values\u001b[0m\u001b[1;33m[\u001b[0m\u001b[1;36m0\u001b[0m\u001b[1;33m]\u001b[0m \u001b[1;33m-\u001b[0m \u001b[1;36m840000\u001b[0m\u001b[1;33m\u001b[0m\u001b[1;33m\u001b[0m\u001b[0m\n",
      "\u001b[1;31mNameError\u001b[0m: name 'decision_variable_values' is not defined"
     ]
    }
   ],
   "source": [
    "decision_variable_values[0]=5\n",
    "-200*(decision_variable_values[0])**2 + 92000 * decision_variable_values[0] - 840000"
   ]
  },
  {
   "cell_type": "code",
   "execution_count": 64,
   "metadata": {},
   "outputs": [
    {
     "ename": "TypeError",
     "evalue": "'NoneType' object is not subscriptable",
     "output_type": "error",
     "traceback": [
      "\u001b[1;31m---------------------------------------------------------------------------\u001b[0m",
      "\u001b[1;31mTypeError\u001b[0m                                 Traceback (most recent call last)",
      "\u001b[1;32m<ipython-input-64-e909a3a23d58>\u001b[0m in \u001b[0;36m<module>\u001b[1;34m\u001b[0m\n\u001b[0;32m     17\u001b[0m result = genetic_search.search(population_size = population_size, maximum_number_of_generations = maximum_number_of_generations,\n\u001b[0;32m     18\u001b[0m                                \u001b[0mnumber_of_mutation_sites\u001b[0m \u001b[1;33m=\u001b[0m \u001b[0mnumber_of_mutation_sites\u001b[0m\u001b[1;33m,\u001b[0m \u001b[0mcrossover_probability\u001b[0m \u001b[1;33m=\u001b[0m \u001b[0mcrossover_probability\u001b[0m\u001b[1;33m,\u001b[0m\u001b[1;33m\u001b[0m\u001b[1;33m\u001b[0m\u001b[0m\n\u001b[1;32m---> 19\u001b[1;33m                                mutation_probability = mutation_probability)\n\u001b[0m\u001b[0;32m     20\u001b[0m \u001b[1;33m\u001b[0m\u001b[0m\n\u001b[0;32m     21\u001b[0m \u001b[1;33m\u001b[0m\u001b[0m\n",
      "\u001b[1;32mC:\\Anaconda3\\envs\\uoft\\lib\\site-packages\\metaheuristic_algorithms\\genetic_algorithm.py\u001b[0m in \u001b[0;36msearch\u001b[1;34m(self, population_size, maximum_number_of_generations, number_of_mutation_sites, crossover_probability, mutation_probability)\u001b[0m\n\u001b[0;32m     25\u001b[0m                     \u001b[0mcrossover_pair_2_index\u001b[0m \u001b[1;33m=\u001b[0m \u001b[0mself\u001b[0m\u001b[1;33m.\u001b[0m\u001b[0m__generate_random_index\u001b[0m\u001b[1;33m(\u001b[0m\u001b[0mpopulation_size\u001b[0m\u001b[1;33m)\u001b[0m\u001b[1;33m\u001b[0m\u001b[1;33m\u001b[0m\u001b[0m\n\u001b[0;32m     26\u001b[0m \u001b[1;33m\u001b[0m\u001b[0m\n\u001b[1;32m---> 27\u001b[1;33m                     \u001b[0mself\u001b[0m\u001b[1;33m.\u001b[0m\u001b[0m__crossover\u001b[0m\u001b[1;33m(\u001b[0m\u001b[0mcrossover_pair_1_index\u001b[0m\u001b[1;33m,\u001b[0m \u001b[0mcrossover_pair_2_index\u001b[0m\u001b[1;33m)\u001b[0m\u001b[1;33m\u001b[0m\u001b[1;33m\u001b[0m\u001b[0m\n\u001b[0m\u001b[0;32m     28\u001b[0m \u001b[1;33m\u001b[0m\u001b[0m\n\u001b[0;32m     29\u001b[0m                 \u001b[1;32mif\u001b[0m \u001b[0mrandom\u001b[0m\u001b[1;33m.\u001b[0m\u001b[0mrandom\u001b[0m\u001b[1;33m(\u001b[0m\u001b[1;33m)\u001b[0m \u001b[1;33m<\u001b[0m \u001b[0mmutation_probability\u001b[0m\u001b[1;33m:\u001b[0m\u001b[1;33m\u001b[0m\u001b[1;33m\u001b[0m\u001b[0m\n",
      "\u001b[1;32mC:\\Anaconda3\\envs\\uoft\\lib\\site-packages\\metaheuristic_algorithms\\genetic_algorithm.py\u001b[0m in \u001b[0;36m__crossover\u001b[1;34m(self, crossover_pair_1_index, crossover_pair_2_index)\u001b[0m\n\u001b[0;32m     66\u001b[0m             \u001b[0mcrossover_point\u001b[0m \u001b[1;33m=\u001b[0m \u001b[0mself\u001b[0m\u001b[1;33m.\u001b[0m\u001b[0m__pick_random_point_in_32_bit_string\u001b[0m\u001b[1;33m\u001b[0m\u001b[1;33m\u001b[0m\u001b[0m\n\u001b[0;32m     67\u001b[0m \u001b[1;33m\u001b[0m\u001b[0m\n\u001b[1;32m---> 68\u001b[1;33m             \u001b[0mcrossover_pair_1_binary_32_string_after_crossover\u001b[0m \u001b[1;33m=\u001b[0m \u001b[0mcrossover_pair_1_binary_32_string\u001b[0m\u001b[1;33m[\u001b[0m\u001b[1;36m0\u001b[0m \u001b[1;33m:\u001b[0m \u001b[0mcrossover_point\u001b[0m\u001b[1;33m]\u001b[0m \u001b[1;33m+\u001b[0m\u001b[0;31m \u001b[0m\u001b[0;31m\\\u001b[0m\u001b[1;33m\u001b[0m\u001b[1;33m\u001b[0m\u001b[0m\n\u001b[0m\u001b[0;32m     69\u001b[0m                                                                 \u001b[0mcrossover_pair_2_binary_32_string\u001b[0m\u001b[1;33m[\u001b[0m\u001b[0mcrossover_point\u001b[0m\u001b[1;33m+\u001b[0m\u001b[1;36m1\u001b[0m \u001b[1;33m:\u001b[0m \u001b[1;36m32\u001b[0m\u001b[1;33m]\u001b[0m\u001b[1;33m\u001b[0m\u001b[1;33m\u001b[0m\u001b[0m\n\u001b[0;32m     70\u001b[0m             \u001b[0mcrossover_pair_2_binary_32_string_after_crossover\u001b[0m \u001b[1;33m=\u001b[0m \u001b[0mcrossover_pair_2_binary_32_string\u001b[0m\u001b[1;33m[\u001b[0m\u001b[1;36m0\u001b[0m \u001b[1;33m:\u001b[0m \u001b[0mcrossover_point\u001b[0m\u001b[1;33m]\u001b[0m \u001b[1;33m+\u001b[0m\u001b[0;31m \u001b[0m\u001b[0;31m\\\u001b[0m\u001b[1;33m\u001b[0m\u001b[1;33m\u001b[0m\u001b[0m\n",
      "\u001b[1;31mTypeError\u001b[0m: 'NoneType' object is not subscriptable"
     ]
    }
   ],
   "source": [
    "from metaheuristic_algorithms.genetic_algorithm import GeneticAlgorithm\n",
    "\n",
    "objectiveFunctionWrapper = ObjectiveFunctionWrapper()\n",
    "\n",
    "number_of_variables = 1\n",
    "objective = 'maximization'\n",
    "\n",
    "genetic_search = GeneticAlgorithm(objectiveFunctionWrapper, number_of_variables, objective)\n",
    "\n",
    "population_size = 20\n",
    "maximum_number_of_generations = 100\n",
    "number_of_mutation_sites = 2\n",
    "crossover_probability = 0.95\n",
    "mutation_probability = 0.05\n",
    "\n",
    "\n",
    "result = genetic_search.search(population_size = population_size, maximum_number_of_generations = maximum_number_of_generations,\n",
    "                               number_of_mutation_sites = number_of_mutation_sites, crossover_probability = crossover_probability, \n",
    "                               mutation_probability = mutation_probability)\n",
    "\n",
    "\n",
    "print(result[\"best_decision_variable_values\"][0]) "
   ]
  },
  {
   "cell_type": "code",
   "execution_count": 68,
   "metadata": {},
   "outputs": [],
   "source": [
    "from metaheuristic_algorithms.function_wrappers.abstract_wrapper import AbstractWrapper\n",
    "\n",
    "class RosenbrookFunctionWrapper2(AbstractWrapper):\n",
    "\n",
    "    def maximum_decision_variable_values(self):\n",
    "        return [5]\n",
    "\n",
    "    def minimum_decision_variable_values(self):\n",
    "        return [-5]\n",
    "\n",
    "    def objective_function_value(self, decision_variable_values):\n",
    "        return -200*(decision_variable_values[0])**2 + 92000 * decision_variable_values[0] - 840000\n",
    "\n",
    "    def initial_decision_variable_value_estimates(self):\n",
    "        return [2]"
   ]
  },
  {
   "cell_type": "code",
   "execution_count": 74,
   "metadata": {},
   "outputs": [],
   "source": [
    "from metaheuristic_algorithms.function_wrappers.abstract_wrapper import AbstractWrapper\n",
    "\n",
    "class RosenbrookFunctionWrapper(AbstractWrapper):\n",
    "\n",
    "    def maximum_decision_variable_values(self):\n",
    "        return [5, 5]\n",
    "\n",
    "    def minimum_decision_variable_values(self):\n",
    "        return [-5, -5]\n",
    "\n",
    "    def objective_function_value(self, decision_variable_values):\n",
    "        return (1 - decision_variable_values[0])**2 + 100 * (decision_variable_values[1] - decision_variable_values[0]**2)**2\n",
    "\n",
    "    def initial_decision_variable_value_estimates(self):\n",
    "        return [2, 2]"
   ]
  },
  {
   "cell_type": "code",
   "execution_count": 75,
   "metadata": {},
   "outputs": [
    {
     "ename": "TypeError",
     "evalue": "'NoneType' object is not subscriptable",
     "output_type": "error",
     "traceback": [
      "\u001b[1;31m---------------------------------------------------------------------------\u001b[0m",
      "\u001b[1;31mTypeError\u001b[0m                                 Traceback (most recent call last)",
      "\u001b[1;32m<ipython-input-75-e24cf9ff734d>\u001b[0m in \u001b[0;36m<module>\u001b[1;34m\u001b[0m\n\u001b[0;32m     18\u001b[0m result = genetic_search.search(population_size = population_size, maximum_number_of_generations = maximum_number_of_generations,\n\u001b[0;32m     19\u001b[0m                                \u001b[0mnumber_of_mutation_sites\u001b[0m \u001b[1;33m=\u001b[0m \u001b[0mnumber_of_mutation_sites\u001b[0m\u001b[1;33m,\u001b[0m \u001b[0mcrossover_probability\u001b[0m \u001b[1;33m=\u001b[0m \u001b[0mcrossover_probability\u001b[0m\u001b[1;33m,\u001b[0m\u001b[1;33m\u001b[0m\u001b[1;33m\u001b[0m\u001b[0m\n\u001b[1;32m---> 20\u001b[1;33m                                mutation_probability = mutation_probability)\n\u001b[0m\u001b[0;32m     21\u001b[0m \u001b[1;33m\u001b[0m\u001b[0m\n\u001b[0;32m     22\u001b[0m \u001b[0mprint\u001b[0m\u001b[1;33m(\u001b[0m\u001b[0mresult\u001b[0m\u001b[1;33m[\u001b[0m\u001b[1;34m\"best_decision_variable_values\"\u001b[0m\u001b[1;33m]\u001b[0m\u001b[1;33m[\u001b[0m\u001b[1;36m0\u001b[0m\u001b[1;33m]\u001b[0m\u001b[1;33m)\u001b[0m \u001b[1;31m# x value: Example: 1.0112\u001b[0m\u001b[1;33m\u001b[0m\u001b[1;33m\u001b[0m\u001b[0m\n",
      "\u001b[1;32mC:\\Anaconda3\\envs\\uoft\\lib\\site-packages\\metaheuristic_algorithms\\genetic_algorithm.py\u001b[0m in \u001b[0;36msearch\u001b[1;34m(self, population_size, maximum_number_of_generations, number_of_mutation_sites, crossover_probability, mutation_probability)\u001b[0m\n\u001b[0;32m     25\u001b[0m                     \u001b[0mcrossover_pair_2_index\u001b[0m \u001b[1;33m=\u001b[0m \u001b[0mself\u001b[0m\u001b[1;33m.\u001b[0m\u001b[0m__generate_random_index\u001b[0m\u001b[1;33m(\u001b[0m\u001b[0mpopulation_size\u001b[0m\u001b[1;33m)\u001b[0m\u001b[1;33m\u001b[0m\u001b[1;33m\u001b[0m\u001b[0m\n\u001b[0;32m     26\u001b[0m \u001b[1;33m\u001b[0m\u001b[0m\n\u001b[1;32m---> 27\u001b[1;33m                     \u001b[0mself\u001b[0m\u001b[1;33m.\u001b[0m\u001b[0m__crossover\u001b[0m\u001b[1;33m(\u001b[0m\u001b[0mcrossover_pair_1_index\u001b[0m\u001b[1;33m,\u001b[0m \u001b[0mcrossover_pair_2_index\u001b[0m\u001b[1;33m)\u001b[0m\u001b[1;33m\u001b[0m\u001b[1;33m\u001b[0m\u001b[0m\n\u001b[0m\u001b[0;32m     28\u001b[0m \u001b[1;33m\u001b[0m\u001b[0m\n\u001b[0;32m     29\u001b[0m                 \u001b[1;32mif\u001b[0m \u001b[0mrandom\u001b[0m\u001b[1;33m.\u001b[0m\u001b[0mrandom\u001b[0m\u001b[1;33m(\u001b[0m\u001b[1;33m)\u001b[0m \u001b[1;33m<\u001b[0m \u001b[0mmutation_probability\u001b[0m\u001b[1;33m:\u001b[0m\u001b[1;33m\u001b[0m\u001b[1;33m\u001b[0m\u001b[0m\n",
      "\u001b[1;32mC:\\Anaconda3\\envs\\uoft\\lib\\site-packages\\metaheuristic_algorithms\\genetic_algorithm.py\u001b[0m in \u001b[0;36m__crossover\u001b[1;34m(self, crossover_pair_1_index, crossover_pair_2_index)\u001b[0m\n\u001b[0;32m     66\u001b[0m             \u001b[0mcrossover_point\u001b[0m \u001b[1;33m=\u001b[0m \u001b[0mself\u001b[0m\u001b[1;33m.\u001b[0m\u001b[0m__pick_random_point_in_32_bit_string\u001b[0m\u001b[1;33m\u001b[0m\u001b[1;33m\u001b[0m\u001b[0m\n\u001b[0;32m     67\u001b[0m \u001b[1;33m\u001b[0m\u001b[0m\n\u001b[1;32m---> 68\u001b[1;33m             \u001b[0mcrossover_pair_1_binary_32_string_after_crossover\u001b[0m \u001b[1;33m=\u001b[0m \u001b[0mcrossover_pair_1_binary_32_string\u001b[0m\u001b[1;33m[\u001b[0m\u001b[1;36m0\u001b[0m \u001b[1;33m:\u001b[0m \u001b[0mcrossover_point\u001b[0m\u001b[1;33m]\u001b[0m \u001b[1;33m+\u001b[0m\u001b[0;31m \u001b[0m\u001b[0;31m\\\u001b[0m\u001b[1;33m\u001b[0m\u001b[1;33m\u001b[0m\u001b[0m\n\u001b[0m\u001b[0;32m     69\u001b[0m                                                                 \u001b[0mcrossover_pair_2_binary_32_string\u001b[0m\u001b[1;33m[\u001b[0m\u001b[0mcrossover_point\u001b[0m\u001b[1;33m+\u001b[0m\u001b[1;36m1\u001b[0m \u001b[1;33m:\u001b[0m \u001b[1;36m32\u001b[0m\u001b[1;33m]\u001b[0m\u001b[1;33m\u001b[0m\u001b[1;33m\u001b[0m\u001b[0m\n\u001b[0;32m     70\u001b[0m             \u001b[0mcrossover_pair_2_binary_32_string_after_crossover\u001b[0m \u001b[1;33m=\u001b[0m \u001b[0mcrossover_pair_2_binary_32_string\u001b[0m\u001b[1;33m[\u001b[0m\u001b[1;36m0\u001b[0m \u001b[1;33m:\u001b[0m \u001b[0mcrossover_point\u001b[0m\u001b[1;33m]\u001b[0m \u001b[1;33m+\u001b[0m\u001b[0;31m \u001b[0m\u001b[0;31m\\\u001b[0m\u001b[1;33m\u001b[0m\u001b[1;33m\u001b[0m\u001b[0m\n",
      "\u001b[1;31mTypeError\u001b[0m: 'NoneType' object is not subscriptable"
     ]
    }
   ],
   "source": [
    "from metaheuristic_algorithms.harmony_search import HarmonySearch\n",
    "from metaheuristic_algorithms.function_wrappers.rosenbrook_function_wrapper import RosenbrookFunctionWrapper\n",
    "\n",
    "rosenbrook_function_wrapper = RosenbrookFunctionWrapper()\n",
    "\n",
    "number_of_variables = 2\n",
    "objective = \"minimization\"\n",
    "\n",
    "genetic_search = GeneticAlgorithm(rosenbrook_function_wrapper, number_of_variables, objective)\n",
    "\n",
    "population_size = 20\n",
    "maximum_number_of_generations = 100\n",
    "number_of_mutation_sites = 2\n",
    "crossover_probability = 0.95\n",
    "mutation_probability = 0.05\n",
    "\n",
    "\n",
    "result = genetic_search.search(population_size = population_size, maximum_number_of_generations = maximum_number_of_generations,\n",
    "                               number_of_mutation_sites = number_of_mutation_sites, crossover_probability = crossover_probability, \n",
    "                               mutation_probability = mutation_probability)\n",
    "\n",
    "print(result[\"best_decision_variable_values\"][0]) # x value: Example: 1.0112\n",
    "print(result[\"best_decision_variable_values\"][1]) # y value: Example: 0.9988\n",
    "print(result[\"best_objective_function_value\"])    # f(x,y) value: Example: 0.0563    "
   ]
  },
  {
   "cell_type": "code",
   "execution_count": 73,
   "metadata": {},
   "outputs": [
    {
     "ename": "IndexError",
     "evalue": "list index out of range",
     "output_type": "error",
     "traceback": [
      "\u001b[1;31m---------------------------------------------------------------------------\u001b[0m",
      "\u001b[1;31mIndexError\u001b[0m                                Traceback (most recent call last)",
      "\u001b[1;32m<ipython-input-73-0f57223de591>\u001b[0m in \u001b[0;36m<module>\u001b[1;34m\u001b[0m\n\u001b[0;32m     17\u001b[0m result = genetic_search.search(population_size = population_size, maximum_number_of_generations = maximum_number_of_generations,\n\u001b[0;32m     18\u001b[0m                                \u001b[0mnumber_of_mutation_sites\u001b[0m \u001b[1;33m=\u001b[0m \u001b[0mnumber_of_mutation_sites\u001b[0m\u001b[1;33m,\u001b[0m \u001b[0mcrossover_probability\u001b[0m \u001b[1;33m=\u001b[0m \u001b[0mcrossover_probability\u001b[0m\u001b[1;33m,\u001b[0m\u001b[1;33m\u001b[0m\u001b[1;33m\u001b[0m\u001b[0m\n\u001b[1;32m---> 19\u001b[1;33m                                mutation_probability = mutation_probability)\n\u001b[0m\u001b[0;32m     20\u001b[0m \u001b[1;33m\u001b[0m\u001b[0m\n\u001b[0;32m     21\u001b[0m \u001b[1;33m\u001b[0m\u001b[0m\n",
      "\u001b[1;32mC:\\Anaconda3\\envs\\uoft\\lib\\site-packages\\metaheuristic_algorithms\\genetic_algorithm.py\u001b[0m in \u001b[0;36msearch\u001b[1;34m(self, population_size, maximum_number_of_generations, number_of_mutation_sites, crossover_probability, mutation_probability)\u001b[0m\n\u001b[0;32m     11\u001b[0m     \u001b[1;32mdef\u001b[0m \u001b[0msearch\u001b[0m\u001b[1;33m(\u001b[0m\u001b[0mself\u001b[0m\u001b[1;33m,\u001b[0m \u001b[0mpopulation_size\u001b[0m \u001b[1;33m=\u001b[0m \u001b[1;36m20\u001b[0m\u001b[1;33m,\u001b[0m \u001b[0mmaximum_number_of_generations\u001b[0m \u001b[1;33m=\u001b[0m \u001b[1;36m100\u001b[0m\u001b[1;33m,\u001b[0m \u001b[0mnumber_of_mutation_sites\u001b[0m \u001b[1;33m=\u001b[0m \u001b[1;36m2\u001b[0m\u001b[1;33m,\u001b[0m \u001b[0mcrossover_probability\u001b[0m \u001b[1;33m=\u001b[0m \u001b[1;36m0.95\u001b[0m\u001b[1;33m,\u001b[0m \u001b[0mmutation_probability\u001b[0m \u001b[1;33m=\u001b[0m \u001b[1;36m0.05\u001b[0m\u001b[1;33m)\u001b[0m\u001b[1;33m:\u001b[0m\u001b[1;33m\u001b[0m\u001b[1;33m\u001b[0m\u001b[0m\n\u001b[0;32m     12\u001b[0m \u001b[1;33m\u001b[0m\u001b[0m\n\u001b[1;32m---> 13\u001b[1;33m         \u001b[0mself\u001b[0m\u001b[1;33m.\u001b[0m\u001b[0m__initialize_population\u001b[0m\u001b[1;33m(\u001b[0m\u001b[0mpopulation_size\u001b[0m\u001b[1;33m)\u001b[0m\u001b[1;33m\u001b[0m\u001b[1;33m\u001b[0m\u001b[0m\n\u001b[0m\u001b[0;32m     14\u001b[0m \u001b[1;33m\u001b[0m\u001b[0m\n\u001b[0;32m     15\u001b[0m         \u001b[1;32mfor\u001b[0m \u001b[0mmaximum_number_of_generations\u001b[0m \u001b[1;32min\u001b[0m \u001b[0mrange\u001b[0m\u001b[1;33m(\u001b[0m\u001b[0mmaximum_number_of_generations\u001b[0m\u001b[1;33m)\u001b[0m\u001b[1;33m:\u001b[0m\u001b[1;33m\u001b[0m\u001b[1;33m\u001b[0m\u001b[0m\n",
      "\u001b[1;32mC:\\Anaconda3\\envs\\uoft\\lib\\site-packages\\metaheuristic_algorithms\\genetic_algorithm.py\u001b[0m in \u001b[0;36m__initialize_population\u001b[1;34m(self, population_size)\u001b[0m\n\u001b[0;32m     43\u001b[0m \u001b[1;33m\u001b[0m\u001b[0m\n\u001b[0;32m     44\u001b[0m         \u001b[1;32mfor\u001b[0m \u001b[0mindividual_index\u001b[0m \u001b[1;32min\u001b[0m \u001b[0mrange\u001b[0m\u001b[1;33m(\u001b[0m\u001b[0mpopulation_size\u001b[0m\u001b[1;33m)\u001b[0m\u001b[1;33m:\u001b[0m\u001b[1;33m\u001b[0m\u001b[1;33m\u001b[0m\u001b[0m\n\u001b[1;32m---> 45\u001b[1;33m             \u001b[0mdecision_variable_values\u001b[0m \u001b[1;33m=\u001b[0m \u001b[1;33m[\u001b[0m\u001b[0msuper\u001b[0m\u001b[1;33m(\u001b[0m\u001b[0mGeneticAlgorithm\u001b[0m\u001b[1;33m,\u001b[0m \u001b[0mself\u001b[0m\u001b[1;33m)\u001b[0m\u001b[1;33m.\u001b[0m\u001b[0mget_decision_variable_value_by_randomization\u001b[0m\u001b[1;33m(\u001b[0m\u001b[0mvariable_index\u001b[0m\u001b[1;33m)\u001b[0m \u001b[1;32mfor\u001b[0m \u001b[0mvariable_index\u001b[0m \u001b[1;32min\u001b[0m \u001b[0mrange\u001b[0m\u001b[1;33m(\u001b[0m\u001b[0mself\u001b[0m\u001b[1;33m.\u001b[0m\u001b[0mnumber_of_variables\u001b[0m\u001b[1;33m)\u001b[0m\u001b[1;33m]\u001b[0m\u001b[1;33m\u001b[0m\u001b[1;33m\u001b[0m\u001b[0m\n\u001b[0m\u001b[0;32m     46\u001b[0m \u001b[1;33m\u001b[0m\u001b[0m\n\u001b[0;32m     47\u001b[0m             \u001b[0mself\u001b[0m\u001b[1;33m.\u001b[0m\u001b[0m__population\u001b[0m\u001b[1;33m.\u001b[0m\u001b[0mappend\u001b[0m\u001b[1;33m(\u001b[0m\u001b[0mdecision_variable_values\u001b[0m\u001b[1;33m)\u001b[0m\u001b[1;33m\u001b[0m\u001b[1;33m\u001b[0m\u001b[0m\n",
      "\u001b[1;32mC:\\Anaconda3\\envs\\uoft\\lib\\site-packages\\metaheuristic_algorithms\\genetic_algorithm.py\u001b[0m in \u001b[0;36m<listcomp>\u001b[1;34m(.0)\u001b[0m\n\u001b[0;32m     43\u001b[0m \u001b[1;33m\u001b[0m\u001b[0m\n\u001b[0;32m     44\u001b[0m         \u001b[1;32mfor\u001b[0m \u001b[0mindividual_index\u001b[0m \u001b[1;32min\u001b[0m \u001b[0mrange\u001b[0m\u001b[1;33m(\u001b[0m\u001b[0mpopulation_size\u001b[0m\u001b[1;33m)\u001b[0m\u001b[1;33m:\u001b[0m\u001b[1;33m\u001b[0m\u001b[1;33m\u001b[0m\u001b[0m\n\u001b[1;32m---> 45\u001b[1;33m             \u001b[0mdecision_variable_values\u001b[0m \u001b[1;33m=\u001b[0m \u001b[1;33m[\u001b[0m\u001b[0msuper\u001b[0m\u001b[1;33m(\u001b[0m\u001b[0mGeneticAlgorithm\u001b[0m\u001b[1;33m,\u001b[0m \u001b[0mself\u001b[0m\u001b[1;33m)\u001b[0m\u001b[1;33m.\u001b[0m\u001b[0mget_decision_variable_value_by_randomization\u001b[0m\u001b[1;33m(\u001b[0m\u001b[0mvariable_index\u001b[0m\u001b[1;33m)\u001b[0m \u001b[1;32mfor\u001b[0m \u001b[0mvariable_index\u001b[0m \u001b[1;32min\u001b[0m \u001b[0mrange\u001b[0m\u001b[1;33m(\u001b[0m\u001b[0mself\u001b[0m\u001b[1;33m.\u001b[0m\u001b[0mnumber_of_variables\u001b[0m\u001b[1;33m)\u001b[0m\u001b[1;33m]\u001b[0m\u001b[1;33m\u001b[0m\u001b[1;33m\u001b[0m\u001b[0m\n\u001b[0m\u001b[0;32m     46\u001b[0m \u001b[1;33m\u001b[0m\u001b[0m\n\u001b[0;32m     47\u001b[0m             \u001b[0mself\u001b[0m\u001b[1;33m.\u001b[0m\u001b[0m__population\u001b[0m\u001b[1;33m.\u001b[0m\u001b[0mappend\u001b[0m\u001b[1;33m(\u001b[0m\u001b[0mdecision_variable_values\u001b[0m\u001b[1;33m)\u001b[0m\u001b[1;33m\u001b[0m\u001b[1;33m\u001b[0m\u001b[0m\n",
      "\u001b[1;32mC:\\Anaconda3\\envs\\uoft\\lib\\site-packages\\metaheuristic_algorithms\\base_algorithm.py\u001b[0m in \u001b[0;36mget_decision_variable_value_by_randomization\u001b[1;34m(self, decision_variable_index)\u001b[0m\n\u001b[0;32m     20\u001b[0m \u001b[1;33m\u001b[0m\u001b[0m\n\u001b[0;32m     21\u001b[0m     \u001b[1;32mdef\u001b[0m \u001b[0mget_decision_variable_value_by_randomization\u001b[0m\u001b[1;33m(\u001b[0m\u001b[0mself\u001b[0m\u001b[1;33m,\u001b[0m \u001b[0mdecision_variable_index\u001b[0m\u001b[1;33m)\u001b[0m\u001b[1;33m:\u001b[0m\u001b[1;33m\u001b[0m\u001b[1;33m\u001b[0m\u001b[0m\n\u001b[1;32m---> 22\u001b[1;33m         \u001b[1;32mreturn\u001b[0m \u001b[0mself\u001b[0m\u001b[1;33m.\u001b[0m\u001b[0mfunction_wrapper\u001b[0m\u001b[1;33m.\u001b[0m\u001b[0mminimum_decision_variable_values\u001b[0m\u001b[1;33m(\u001b[0m\u001b[1;33m)\u001b[0m\u001b[1;33m[\u001b[0m\u001b[0mdecision_variable_index\u001b[0m\u001b[1;33m]\u001b[0m \u001b[1;33m+\u001b[0m \u001b[1;33m(\u001b[0m\u001b[0mself\u001b[0m\u001b[1;33m.\u001b[0m\u001b[0mfunction_wrapper\u001b[0m\u001b[1;33m.\u001b[0m\u001b[0mmaximum_decision_variable_values\u001b[0m\u001b[1;33m(\u001b[0m\u001b[1;33m)\u001b[0m\u001b[1;33m[\u001b[0m\u001b[0mdecision_variable_index\u001b[0m\u001b[1;33m]\u001b[0m \u001b[1;33m-\u001b[0m \u001b[0mself\u001b[0m\u001b[1;33m.\u001b[0m\u001b[0mfunction_wrapper\u001b[0m\u001b[1;33m.\u001b[0m\u001b[0mminimum_decision_variable_values\u001b[0m\u001b[1;33m(\u001b[0m\u001b[1;33m)\u001b[0m\u001b[1;33m[\u001b[0m\u001b[0mdecision_variable_index\u001b[0m\u001b[1;33m]\u001b[0m\u001b[1;33m)\u001b[0m \u001b[1;33m*\u001b[0m \u001b[0mrandom\u001b[0m\u001b[1;33m.\u001b[0m\u001b[0mrandom\u001b[0m\u001b[1;33m(\u001b[0m\u001b[1;33m)\u001b[0m\u001b[1;33m\u001b[0m\u001b[1;33m\u001b[0m\u001b[0m\n\u001b[0m\u001b[0;32m     23\u001b[0m \u001b[1;33m\u001b[0m\u001b[0m\n\u001b[0;32m     24\u001b[0m     \u001b[1;31m# max(function_values) or min(function_values)\u001b[0m\u001b[1;33m\u001b[0m\u001b[1;33m\u001b[0m\u001b[1;33m\u001b[0m\u001b[0m\n",
      "\u001b[1;31mIndexError\u001b[0m: list index out of range"
     ]
    }
   ],
   "source": [
    "from metaheuristic_algorithms.genetic_algorithm import GeneticAlgorithm\n",
    "\n",
    "objectiveFunctionWrapper =  RosenbrookFunctionWrapper()\n",
    "\n",
    "number_of_variables = 2\n",
    "objective = \"minimization\"\n",
    "\n",
    "genetic_search = GeneticAlgorithm(rosenbrook_function_wrapper, number_of_variables, objective)\n",
    "\n",
    "population_size = 20\n",
    "maximum_number_of_generations = 100\n",
    "number_of_mutation_sites = 2\n",
    "crossover_probability = 0.95\n",
    "mutation_probability = 0.05\n",
    "\n",
    "\n",
    "result = genetic_search.search(population_size = population_size, maximum_number_of_generations = maximum_number_of_generations,\n",
    "                               number_of_mutation_sites = number_of_mutation_sites, crossover_probability = crossover_probability, \n",
    "                               mutation_probability = mutation_probability)\n",
    "\n",
    "\n",
    "print(result[\"best_decision_variable_values\"][0]) "
   ]
  }
 ],
 "metadata": {
  "@webio": {
   "lastCommId": null,
   "lastKernelId": null
  },
  "kernelspec": {
   "display_name": "Python 3",
   "language": "python",
   "name": "python3"
  },
  "language_info": {
   "codemirror_mode": {
    "name": "ipython",
    "version": 3
   },
   "file_extension": ".py",
   "mimetype": "text/x-python",
   "name": "python",
   "nbconvert_exporter": "python",
   "pygments_lexer": "ipython3",
   "version": "3.7.8"
  }
 },
 "nbformat": 4,
 "nbformat_minor": 4
}
