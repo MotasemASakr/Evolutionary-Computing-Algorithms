{
 "cells": [
  {
   "cell_type": "markdown",
   "metadata": {},
   "source": [
    "# Bike Pricing Problem"
   ]
  },
  {
   "attachments": {},
   "cell_type": "markdown",
   "metadata": {},
   "source": [
    "Assume that a company want to design a new bicycle.\n",
    "\n",
    "The following costs are considered:\n",
    "\n",
    "- \$700,000 for manufacturing set-up costs, advertising, etc.\n",
    "- \$110 to make each bike\n",
    "\n",
    "Based on similar bikes, the company expects sales to follow this “Demand Curve”: Unit sales=70,000 - 200*X where X is the price. This means that if the company set the price:\n",
    "- at \\$0, the company just gives away 70,000 bikes\n",
    "- at \\$350, the company won’t sell any bikes at all\n",
    "- at \\$300, the company might sell 70,000-200*300 = 10,000 bikes\n",
    "\n",
    "The profit can be calculated as follows: Profit=Sales-Costs or\n",
    "\n",
    "\\begin{equation*}\n",
    "f(\\mathbf{X})   = -200 \\times \\mathbf{X}^2 + 92,000 \\times \\mathbf{X} - 8,400,000  \\quad\\quad\\quad 50 < \\mathbf{X} \\le 350\n",
    "\\end{equation*}"
   ]
  },
  {
   "cell_type": "markdown",
   "metadata": {},
   "source": [
    "# Binary Genetic Algorithm or Simple Genetic Algorithm (SGA)"
   ]
  },
  {
   "cell_type": "code",
   "execution_count": 1,
   "metadata": {},
   "outputs": [],
   "source": [
    "import random"
   ]
  },
  {
   "cell_type": "code",
   "execution_count": 2,
   "metadata": {},
   "outputs": [],
   "source": [
    "# GA parameters\n",
    "num_gen=3000 # number of generations\n",
    "pop_size=5 # set population size\n",
    "crossover_prob=0.8 # crossover probability\n",
    "mutation_prob=0.2 # mutation probability\n",
    "num_parents=2 # number of parents to be selected\n",
    "\n",
    "# solution representation\n",
    "chromosome_length=9 # number of bits in each parameter\n",
    "\n",
    "best_score=-100000 # initialze best score"
   ]
  },
  {
   "cell_type": "code",
   "execution_count": 3,
   "metadata": {},
   "outputs": [],
   "source": [
    "# Create an initial random population\n",
    "populations =([[random.randint(0,1) for x in range(chromosome_length)] for i in range(pop_size)])\n",
    "parents=[]"
   ]
  },
  {
   "cell_type": "code",
   "execution_count": 4,
   "metadata": {},
   "outputs": [],
   "source": [
    "# Calculate fitness score\n",
    "def fitness_score() :\n",
    "    global populations, best_score\n",
    "    fit_value = []\n",
    "    fit_score=[]\n",
    "    num=[]\n",
    "    for i in range(len(populations)) :\n",
    "        chromosome_value=0\n",
    "        num.append(int(''.join(str(x) for x in populations[i]), base=2)) # convert binary to decimal\n",
    "        fit_value.append(-200*(num[i]^2) + 92000*num[i] -8400000)      \n",
    "    fit_value, populations = zip(*sorted(zip(fit_value, populations) , reverse = True))\n",
    "    best_score= fit_value[0]\n",
    "    \n",
    "    return fit_value, best_score"
   ]
  },
  {
   "cell_type": "code",
   "execution_count": 5,
   "metadata": {},
   "outputs": [],
   "source": [
    "# Random parent selection\n",
    "def selectparent():\n",
    "    global parents\n",
    "    parents=random.sample(populations, num_parents)\n",
    "    \n",
    "    return parents"
   ]
  },
  {
   "cell_type": "code",
   "execution_count": 6,
   "metadata": {},
   "outputs": [],
   "source": [
    "# Apply 1-point crossover\n",
    "def crossover():  \n",
    "    global parents\n",
    "    if crossover_prob > random.random():\n",
    "        cross_point = random.randint(0,chromosome_length)\n",
    "        parents+= tuple([(parents[0][0:cross_point +1] +parents[1][cross_point+1:(chromosome_length+1)])])\n",
    "        parents+= tuple([(parents[1][0:cross_point +1] +parents[0][cross_point+1:(chromosome_length+1)])])\n",
    "    \n",
    "    return parents"
   ]
  },
  {
   "cell_type": "code",
   "execution_count": 7,
   "metadata": {},
   "outputs": [],
   "source": [
    "# Apply mutation\n",
    "# Alter each gene independently with a probability mutation_prob\n",
    "def mutation() :\n",
    "    global populations, parents\n",
    "    mutated_parents=[]    \n",
    "    for i in range(len(parents)) :\n",
    "        for j in range(chromosome_length) :\n",
    "            if mutation_prob > random.random():\n",
    "                if parents[i][j]==1:\n",
    "                    parents[i][j]=0\n",
    "                else:\n",
    "                    parents[i][j]=1\n",
    "                    \n",
    "                populations = parents\n",
    "    \n",
    "    return populations"
   ]
  },
  {
   "cell_type": "code",
   "execution_count": 8,
   "metadata": {},
   "outputs": [
    {
     "name": "stdout",
     "output_type": "stream",
     "text": [
      "Best score: 23546000\n",
      "Best solution 226\n"
     ]
    }
   ],
   "source": [
    "# run GA\n",
    "for generation in range(num_gen) :\n",
    "    fitness_score()\n",
    "    selectparent() \n",
    "    crossover()\n",
    "    mutation()\n",
    "\n",
    "    \n",
    "print(\"Best score:\" , best_score)\n",
    "print(\"Best solution\", int(''.join(str(x) for x in populations[0]), base=2))"
   ]
  }
 ],
 "metadata": {
  "@webio": {
   "lastCommId": null,
   "lastKernelId": null
  },
  "kernelspec": {
   "display_name": "Python 3",
   "language": "python",
   "name": "python3"
  },
  "language_info": {
   "codemirror_mode": {
    "name": "ipython",
    "version": 3
   },
   "file_extension": ".py",
   "mimetype": "text/x-python",
   "name": "python",
   "nbconvert_exporter": "python",
   "pygments_lexer": "ipython3",
   "version": "3.7.8"
  }
 },
 "nbformat": 4,
 "nbformat_minor": 4
}
